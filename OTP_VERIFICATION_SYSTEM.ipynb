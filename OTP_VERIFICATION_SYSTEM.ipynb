{
  "nbformat": 4,
  "nbformat_minor": 0,
  "metadata": {
    "colab": {
      "provenance": []
    },
    "kernelspec": {
      "name": "python3",
      "display_name": "Python 3"
    },
    "language_info": {
      "name": "python"
    }
  },
  "cells": [
    {
      "cell_type": "code",
      "execution_count": 2,
      "metadata": {
        "colab": {
          "base_uri": "https://localhost:8080/"
        },
        "id": "q6nMunlRIsGs",
        "outputId": "fb1d52bc-ba46-4841-829a-b380f3ba82da"
      },
      "outputs": [
        {
          "output_type": "stream",
          "name": "stdout",
          "text": [
            "Please Enter Your Email: astropritam1@gmail.com\n",
            "Please Enter Your OTP >>: 596509\n",
            "Yes, Your OTP is Verified\n"
          ]
        }
      ],
      "source": [
        "import os\n",
        "import math\n",
        "import random\n",
        "import smtplib\n",
        "\n",
        "digits = \"0123456789\"\n",
        "OTP = \"\"\n",
        "for i in range(6):\n",
        "  OTP+= digits[math.floor(random.random()*10)]\n",
        "otp = OTP + \" is your OTP\"\n",
        "msg = otp\n",
        "s = smtplib.SMTP('smtp.gmail.com',587)\n",
        "s.starttls()\n",
        "emailid = input(\"Please Enter Your Email: \")\n",
        "s.login(\"astropritam1@gmailcom\",\"wwnp hnnz tpht xdcs\")\n",
        "s.sendmail('&&&&&&&&&&&', emailid, msg)\n",
        "a = input(\"Please Enter Your OTP >>: \")\n",
        "if a == OTP:\n",
        "  print(\"Yes, Your OTP is Verified\")\n",
        "else:\n",
        "  print(\"Please check your OTP Again\")"
      ]
    }
  ]
}